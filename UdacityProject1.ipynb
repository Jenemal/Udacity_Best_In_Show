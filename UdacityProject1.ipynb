{
 "cells": [
  {
   "cell_type": "markdown",
   "metadata": {},
   "source": [
    "# Udacity Project #1 - Best In Show\n",
    "\n",
    "### Section 1: Business Understanding\n",
    "Dogs are one of the most popular pets but not all dog breeds are a good fit for all people. Often when people no longer can care for a dog or it isn't the right fit they will seek out a local shelter or rescue organization. As a result here are a large number of highly intelligent breeds that need rehomed each year. This has only been exacerbated during the pandemic. This analysis aims to shed light on what it takes to own a brilliant dog by answering the following questions:\n",
    "\n",
    "##### Question 1: Are the brightest dogs popular?\n",
    "This question aims to address the market demand to see if people in the US are interested in having a smart dog.\n",
    "\n",
    "##### Question 2: How affordable are intelligent dogs?\n",
    "The question analyzes the ranges of costs across dog intelligence levels from the Brightest to the Lowest. The goal of this question is to identify if the cost of owning a smart dog leads to their incompatibility and needing to find a new home.\n",
    "\n",
    "##### Question 3: Do intelligent dogs share similar traits and are they specific to a breed category?\n",
    "This question aims to identify key traits that are typically associated with the brightest of breeds. It also aims to identify key breeds classes as each class has different needs."
   ]
  },
  {
   "cell_type": "code",
   "execution_count": 232,
   "metadata": {},
   "outputs": [],
   "source": [
    "# The relevant packages are imported below to perform the data analysis.\n",
    "# Methods that will be used throughout the notebook have also been defined\n",
    "# in this section.\n",
    "\n",
    "import pandas as pd\n",
    "import numpy as np\n",
    "import matplotlib.pyplot as plt\n",
    "from scipy.stats import ttest_ind\n",
    "from sklearn.linear_model import LogisticRegression\n",
    "from sklearn.model_selection import train_test_split\n",
    "from sklearn import metrics\n",
    "from sklearn import preprocessing\n",
    "from sklearn.model_selection import cross_val_predict\n",
    "from sklearn.metrics import accuracy_score\n",
    "\n",
    "\n",
    "def ConvertDfObjectsToNumeric(df, column_names_array):\n",
    "    '''\n",
    "    INPUT\n",
    "    df - the pandas dataframe to be changed\n",
    "    column_names_array - the column headings that are to be converted from object to float\n",
    "    \n",
    "    OUTPUT\n",
    "    None\n",
    "    '''\n",
    "    # Convert remaning object types to floats\n",
    "    for name in column_names_array:\n",
    "        \n",
    "        df[name] = pd.to_numeric(df[name], errors= 'coerce')\n",
    "\n",
    "def CleanData(df):\n",
    "    '''\n",
    "    INPUT\n",
    "    df - the pandas dataframe to be cleaned\n",
    "    \n",
    "    OUTPUT\n",
    "    X - All of the variables you want to consider when predicting the response (matrix)\n",
    "    y - The response variable (matrix)\n",
    "    '''\n",
    "    # Replace the 'no data' labels with NaNs\n",
    "    df = df.replace('no data', np.nan)\n",
    "\n",
    "    # Drop columns with all NaN values\n",
    "    df = df.dropna(how='all', axis=1)\n",
    "\n",
    "    # Remove missing intelligence and popularity nan rows\n",
    "    df = df.dropna(subset = ['1 INTELLIGENCE (TRAINABILITY) ranking', 'POPULARITY IN US', 'intelligence category'])\n",
    "\n",
    "    # Select the columns of interest\n",
    "    new_df = df[['1 INTELLIGENCE (TRAINABILITY) ranking', 'POPULARITY IN US', 'LIFETIME COST, $', \n",
    "    '5b suitability for children ', '2 LONGEVITY', '5a grooming required ', '4a average purchase price, US$', \n",
    "    'category', 'intelligence category']]\n",
    "\n",
    "    # For quantitative variables, replace NaN values with the mean of that column\n",
    "    quantitativeVariables = new_df.select_dtypes(include=['float', 'int']).columns\n",
    "    for column in quantitativeVariables:\n",
    "        new_df[column].fillna((new_df[column].mean()), inplace=True)\n",
    "    \n",
    "    return new_df\n",
    "\n",
    "def CreateDummyDf(df, categorical_columns, dummy_na):\n",
    "    '''\n",
    "    INPUT:\n",
    "    df - pandas dataframe with categorical variables you want to get dummy variablesf for\n",
    "    categorical_columns - the names of the categorical columns (list of strings)\n",
    "    dummy_na - Bool holding whether you want to dummy NA vals of categorical columns or not\n",
    "    \n",
    "    OUTPUT:\n",
    "    df - a new dataframe with only the dummy variable columns\n",
    "    '''\n",
    "    for column in  categorical_columns:\n",
    "        try:\n",
    "            # for each cat add dummy var, drop original column\n",
    "            df = pd.concat([df.drop(column, axis=1), pd.get_dummies(df[column], prefix=column, prefix_sep='_', drop_first=True, dummy_na=dummy_na)], axis=1)\n",
    "        except:\n",
    "            continue\n",
    "    return df"
   ]
  },
  {
   "cell_type": "markdown",
   "metadata": {},
   "source": [
    "### Section 2: Data Understanding\n",
    "Gather the Data"
   ]
  },
  {
   "cell_type": "code",
   "execution_count": 233,
   "metadata": {},
   "outputs": [],
   "source": [
    "# This section is where the dataframe is loaded in for future cleaning and analysis.\n",
    "# The data consist of information regarding dog breeds, costs, intelligence, popularity, etc.\n",
    "\n",
    "filepath = 'C:/Repositories/Udacity_Best_In_Show/best_in_show.csv'\n",
    "df = pd.read_csv(filepath)"
   ]
  },
  {
   "cell_type": "markdown",
   "metadata": {},
   "source": [
    "### Section 3: Data Preparation\n",
    "This step focuses on replacing or removing NaNs in our dataset and converting  datatypes into a usable format for our analysis."
   ]
  },
  {
   "cell_type": "code",
   "execution_count": 234,
   "metadata": {},
   "outputs": [
    {
     "name": "stdout",
     "output_type": "stream",
     "text": [
      "Percentage of missing values:\n",
      "1 INTELLIGENCE (TRAINABILITY) ranking    0.0\n",
      "POPULARITY IN US                         0.0\n",
      "LIFETIME COST, $                         0.0\n",
      "5b suitability for children              0.0\n",
      "2 LONGEVITY                              0.0\n",
      "5a grooming required                     0.0\n",
      "4a average purchase price, US$           0.0\n",
      "intelligence category                    0.0\n",
      "category_hound                           0.0\n",
      "category_sporting                        0.0\n",
      "category_terrier                         0.0\n",
      "category_toy                             0.0\n",
      "category_working                         0.0\n",
      "category_nan                             0.0\n",
      "dtype: float64\n"
     ]
    }
   ],
   "source": [
    "# This dataset currently has all datatypes listed as objects. We will need\n",
    "# to remove the '$' from the cost columns and then convert them to numerics.\n",
    "# This achieved by replacing any instance of '$' with an empty space.\n",
    "\n",
    "df[df.columns[1:]] = df[df.columns[1:]].replace('[\\$,]', '', regex=True)\n",
    "\n",
    "columnNames = ['1 INTELLIGENCE (TRAINABILITY) ranking', 'POPULARITY IN US', 'LIFETIME COST, $', '2 LONGEVITY', '4a average purchase price, US$']\n",
    "ConvertDfObjectsToNumeric(df, columnNames)\n",
    "\n",
    "# The data lists '-' instead of NaN for some values. Using the same logic as above\n",
    "# we replaced the '-' with a NumPy NaN value so that we can more easily clean the data\n",
    "# in the following sections.\n",
    "df[df.columns[1:]] = df[df.columns[1:]].replace('-', np.nan, regex=True)\n",
    "\n",
    "# Create cleaned dataset for quantitative variables\n",
    "cleaned_df = CleanData(df)\n",
    "\n",
    "# Clean the data for the categorical NaNs (drop missing values for children suitability)\n",
    "# These values were dropped because there were over 24% of the values missing. \n",
    "# Also, the rows that were missing \"5b suitability for children\" also were missing \"grooming required\" data\n",
    "# The combination of the small data set and multiple missing values led me to drop the rows\n",
    "cleaned_df = cleaned_df.dropna(subset = ['5b suitability for children '])\n",
    "\n",
    "# Create dummy values for 'category'\n",
    "# Dummy values were created for category as there only were 10% of the values missing. By creating dummy\n",
    "# values I was able to keep the rows and have a sample size of 100 data points. \n",
    "columnList = ['category']\n",
    "cleaned_df = CreateDummyDf(cleaned_df, columnList, True)\n",
    "\n",
    "# Check for NaN values\n",
    "print(\"Percentage of missing values:\")\n",
    "print(cleaned_df.isna().sum()/len(cleaned_df))"
   ]
  },
  {
   "cell_type": "code",
   "execution_count": 235,
   "metadata": {},
   "outputs": [],
   "source": [
    "# Create sub df for Brightest, Excellent, Average, Fair, and Lowest intelligence levels\n",
    "excellentPopularity = cleaned_df[cleaned_df['intelligence category'] == 'Excellent'][['POPULARITY IN US', 'LIFETIME COST, $']]\n",
    "brightestPopularity = cleaned_df[cleaned_df['intelligence category'] == 'Brightest'][['POPULARITY IN US', 'LIFETIME COST, $']]\n",
    "averagePopularity = cleaned_df[cleaned_df['intelligence category'] == 'Average'][['POPULARITY IN US', 'LIFETIME COST, $']]\n",
    "fairPopularity = cleaned_df[cleaned_df['intelligence category'] == 'Fair'][['POPULARITY IN US', 'LIFETIME COST, $']]\n",
    "lowestPopularity = cleaned_df[cleaned_df['intelligence category'] == 'Lowest'][['POPULARITY IN US', 'LIFETIME COST, $']]"
   ]
  },
  {
   "cell_type": "markdown",
   "metadata": {},
   "source": [
    "### Section 4: Evaluate the Results"
   ]
  },
  {
   "cell_type": "markdown",
   "metadata": {},
   "source": [
    "#### Are the brightest dogs popular?\n",
    "A bar graph of each intelligence category was chosen to visualize the popularities. A bar chart was chosen for its easy to interpret nature and ability to clearly depict how each intelligence measured in popularity against one another. A two-tailed t-test was performed to check for statistical significance between groups."
   ]
  },
  {
   "cell_type": "code",
   "execution_count": 236,
   "metadata": {},
   "outputs": [
    {
     "data": {
      "image/png": "[encoded data removed]",
      "text/plain": [
       "<Figure size 432x288 with 1 Axes>"
      ]
     },
     "metadata": {
      "needs_background": "light"
     },
     "output_type": "display_data"
    },
    {
     "data": {
      "text/html": [
       "<div>\n",
       "<style scoped>\n",
       "    .dataframe tbody tr th:only-of-type {\n",
       "        vertical-align: middle;\n",
       "    }\n",
       "\n",
       "    .dataframe tbody tr th {\n",
       "        vertical-align: top;\n",
       "    }\n",
       "\n",
       "    .dataframe thead th {\n",
       "        text-align: right;\n",
       "    }\n",
       "</style>\n",
       "<table border=\"1\" class=\"dataframe\">\n",
       "  <thead>\n",
       "    <tr style=\"text-align: right;\">\n",
       "      <th></th>\n",
       "      <th>Intelligence</th>\n",
       "      <th>Brightest</th>\n",
       "      <th>Excellent</th>\n",
       "    </tr>\n",
       "  </thead>\n",
       "  <tbody>\n",
       "    <tr>\n",
       "      <th>0</th>\n",
       "      <td>Brightest</td>\n",
       "      <td>-</td>\n",
       "      <td>0.0438685</td>\n",
       "    </tr>\n",
       "    <tr>\n",
       "      <th>1</th>\n",
       "      <td>Excellent</td>\n",
       "      <td>0.0438685</td>\n",
       "      <td>-</td>\n",
       "    </tr>\n",
       "    <tr>\n",
       "      <th>2</th>\n",
       "      <td>Average</td>\n",
       "      <td>0.00170491</td>\n",
       "      <td>0.0778621</td>\n",
       "    </tr>\n",
       "    <tr>\n",
       "      <th>3</th>\n",
       "      <td>Fair</td>\n",
       "      <td>0.00378943</td>\n",
       "      <td>0.303769</td>\n",
       "    </tr>\n",
       "    <tr>\n",
       "      <th>4</th>\n",
       "      <td>Lowest</td>\n",
       "      <td>0.0307391</td>\n",
       "      <td>0.987572</td>\n",
       "    </tr>\n",
       "  </tbody>\n",
       "</table>\n",
       "</div>"
      ],
      "text/plain": [
       "  Intelligence   Brightest  Excellent\n",
       "0    Brightest           -  0.0438685\n",
       "1    Excellent   0.0438685          -\n",
       "2      Average  0.00170491  0.0778621\n",
       "3         Fair  0.00378943   0.303769\n",
       "4       Lowest   0.0307391   0.987572"
      ]
     },
     "execution_count": 236,
     "metadata": {},
     "output_type": "execute_result"
    }
   ],
   "source": [
    "# Plot the average popularity (1 = most popular) against dog intelligence\n",
    "fig = plt.figure()\n",
    "ax = fig.add_axes([0,0,1,1])\n",
    "intelligence = ['Brightest', 'Excellent', 'Average', 'Fair', 'Lowest']\n",
    "popularity = [\n",
    "    brightestPopularity['POPULARITY IN US'].mean(),\n",
    "    excellentPopularity['POPULARITY IN US'].mean(),\n",
    "    averagePopularity['POPULARITY IN US'].mean(),\n",
    "    fairPopularity['POPULARITY IN US'].mean(),\n",
    "    lowestPopularity['POPULARITY IN US'].mean()]\n",
    "\n",
    "ax.bar(intelligence,popularity)\n",
    "ax.set_title('Dog Intelligence Versus US Popularity')\n",
    "ax.set_ylabel('US Popularity (1 = most popular)')\n",
    "ax.set_xlabel('Dog Intelligence')\n",
    "plt.show()\n",
    "\n",
    "# Use a t-test to compare differences between groups\n",
    "# Brightest v Other Groups\n",
    "_, pBrightestExcellent = ttest_ind(brightestPopularity['POPULARITY IN US'], excellentPopularity['POPULARITY IN US'])\n",
    "_, pBrightestAverage = ttest_ind(brightestPopularity['POPULARITY IN US'], averagePopularity['POPULARITY IN US'])\n",
    "_, pBrightestFair = ttest_ind(brightestPopularity['POPULARITY IN US'], fairPopularity['POPULARITY IN US'])\n",
    "_, pBrightestLowest = ttest_ind(brightestPopularity['POPULARITY IN US'], lowestPopularity['POPULARITY IN US'])\n",
    "\n",
    "# Excellent v Other Groups\n",
    "_, pExcellentAverage = ttest_ind(excellentPopularity['POPULARITY IN US'], averagePopularity['POPULARITY IN US'])\n",
    "_, pExcellentFair = ttest_ind(excellentPopularity['POPULARITY IN US'], fairPopularity['POPULARITY IN US'])\n",
    "_, pExcellentLowest = ttest_ind(excellentPopularity['POPULARITY IN US'], lowestPopularity['POPULARITY IN US'])\n",
    "\n",
    "# create a dataframe to display the p-values of interest\n",
    "data = {\n",
    "    'Intelligence': ['Brightest', 'Excellent', 'Average', 'Fair', 'Lowest'],\n",
    "    'Brightest': ['-', pBrightestExcellent, pBrightestAverage, pBrightestFair, pBrightestLowest],\n",
    "    'Excellent': [pBrightestExcellent,'-', pExcellentAverage, pExcellentFair, pExcellentLowest]\n",
    "}\n",
    "\n",
    "pValueDataFrame = pd.DataFrame(data = data)\n",
    "pValueDataFrame"
   ]
  },
  {
   "cell_type": "markdown",
   "metadata": {},
   "source": [
    "The figure above shows us that the Brightest dog breeds are the most popular in the US by at least 2 fold when compared to other intellegence levels. This indicates that people do want smart dogs and leads to our next question of is cost a limiting factor."
   ]
  },
  {
   "cell_type": "markdown",
   "metadata": {},
   "source": [
    "#### How affordable are intelligent dogs?\n",
    "\n",
    "This question starts to dive into why the Brightest dogs are so popular with there being no difference between the lowest intelligent and next smartest dogs. Here, a scatter plot was used to visualize trends between dog intelligence levels, lifetime cost, and popularity in the US."
   ]
  },
  {
   "cell_type": "code",
   "execution_count": 237,
   "metadata": {},
   "outputs": [
    {
     "data": {
      "text/plain": [
       "Text(0.5, 1.0, 'Dog Popularity as a Function of Cost')"
      ]
     },
     "execution_count": 237,
     "metadata": {},
     "output_type": "execute_result"
    },
    {
     "data": {
      "image/png": "[encoded data removed]",
      "text/plain": [
       "<Figure size 432x288 with 1 Axes>"
      ]
     },
     "metadata": {
      "needs_background": "light"
     },
     "output_type": "display_data"
    }
   ],
   "source": [
    "# Create plots to display intelligence group cost values\n",
    "ax1 = brightestPopularity.plot(kind='scatter', y='POPULARITY IN US', x='LIFETIME COST, $', color='r')\n",
    "ax2 = excellentPopularity.plot(kind='scatter', y='POPULARITY IN US', x='LIFETIME COST, $', color='g', ax=ax1)    \n",
    "ax3 = averagePopularity.plot(kind='scatter', y='POPULARITY IN US', x='LIFETIME COST, $', color='b', ax=ax1)\n",
    "ax4 = fairPopularity.plot(kind='scatter', y='POPULARITY IN US', x='LIFETIME COST, $', color='k', ax=ax1)    \n",
    "ax5 = lowestPopularity.plot(kind='scatter', y='POPULARITY IN US', x='LIFETIME COST, $', color='y', ax=ax1)\n",
    "\n",
    "plt.legend(['Brightest','Excellent','Average', 'Fair', 'Lowest'])\n",
    "plt.title('Dog Popularity as a Function of Cost')"
   ]
  },
  {
   "cell_type": "markdown",
   "metadata": {},
   "source": [
    "A scatter plot was chosen do visualize the different costs per intelligence grouping because of its ability to illustrate trends among groups for easy comparison. Here, we see that the Brightest dog category (red) has the tightest spread when compared to the other groups. However, the cost is centered around the median lifetime cost for all breeds and does not appear to depend on intellegence or popularity."
   ]
  },
  {
   "cell_type": "markdown",
   "metadata": {},
   "source": [
    "#### What key features are parameters do most of the Brightest dogs have?\n",
    "Here, I created a logistic regression model to determine what (if any) parameters are associated with the Brightest intelligence breeds. A logistic regression was used instead of a linear regression because the response variable is catagorical in nature. Also, since we are only interested in what predictors contribute to the Brightest breeds the Brightest Intelligence level was assigned a 1 and the remaining levels 0."
   ]
  },
  {
   "cell_type": "code",
   "execution_count": 239,
   "metadata": {},
   "outputs": [],
   "source": [
    "# Convert response variable to binary values. We only care about the Brightest intelligence level and so it has been assigned 1 and the other categories a 0.\n",
    "cleaned_df['intelligence category'] = cleaned_df['intelligence category'].replace(['Excellent','Above average','Average','Fair', 'Lowest'],0,regex=True)\n",
    "cleaned_df['intelligence category'] = cleaned_df['intelligence category'].replace(['Brightest'],1,regex=True)\n",
    "\n",
    "# Specify predictor variable column names\n",
    "columnPredictorList =  ['5b suitability for children ','5a grooming required '\n",
    ", '2 LONGEVITY','category_hound', 'category_sporting', 'category_terrier',\n",
    "'category_toy', 'category_working']"
   ]
  },
  {
   "cell_type": "code",
   "execution_count": 264,
   "metadata": {},
   "outputs": [
    {
     "name": "stdout",
     "output_type": "stream",
     "text": [
      "The training score is:  0.8875\n",
      "The test score is:  0.9\n"
     ]
    },
    {
     "name": "stderr",
     "output_type": "stream",
     "text": [
      "c:\\Users\\MALIK\\Anaconda3\\lib\\site-packages\\sklearn\\model_selection\\_split.py:667: UserWarning: The least populated class in y has only 8 members, which is less than n_splits=10.\n",
      "  % (min_groups, self.n_splits)), UserWarning)\n"
     ]
    },
    {
     "data": {
      "text/html": [
       "<div>\n",
       "<style scoped>\n",
       "    .dataframe tbody tr th:only-of-type {\n",
       "        vertical-align: middle;\n",
       "    }\n",
       "\n",
       "    .dataframe tbody tr th {\n",
       "        vertical-align: top;\n",
       "    }\n",
       "\n",
       "    .dataframe thead th {\n",
       "        text-align: right;\n",
       "    }\n",
       "</style>\n",
       "<table border=\"1\" class=\"dataframe\">\n",
       "  <thead>\n",
       "    <tr style=\"text-align: right;\">\n",
       "      <th></th>\n",
       "      <th>Suitability for Children</th>\n",
       "      <th>Grooming Required</th>\n",
       "      <th>Longevity</th>\n",
       "      <th>Hound</th>\n",
       "      <th>Sporting</th>\n",
       "      <th>Terrier</th>\n",
       "      <th>Toy</th>\n",
       "      <th>Working</th>\n",
       "    </tr>\n",
       "  </thead>\n",
       "  <tbody>\n",
       "    <tr>\n",
       "      <th>0</th>\n",
       "      <td>0.87893</td>\n",
       "      <td>0.640804</td>\n",
       "      <td>0.149487</td>\n",
       "      <td>-0.708754</td>\n",
       "      <td>0.280482</td>\n",
       "      <td>-0.670466</td>\n",
       "      <td>-0.359801</td>\n",
       "      <td>0.408523</td>\n",
       "    </tr>\n",
       "  </tbody>\n",
       "</table>\n",
       "</div>"
      ],
      "text/plain": [
       "   Suitability for Children  Grooming Required  Longevity     Hound  Sporting  \\\n",
       "0                   0.87893           0.640804   0.149487 -0.708754  0.280482   \n",
       "\n",
       "    Terrier       Toy   Working  \n",
       "0 -0.670466 -0.359801  0.408523  "
      ]
     },
     "execution_count": 264,
     "metadata": {},
     "output_type": "execute_result"
    }
   ],
   "source": [
    "# Begin setting up the logistic regression\n",
    "\n",
    "# Set predictor and response variables\n",
    "x = cleaned_df[columnPredictorList]\n",
    "y = cleaned_df['intelligence category']\n",
    "\n",
    "# Split into train and test data sets\n",
    "X_train, X_test, y_train, y_test = train_test_split(x, y, \n",
    "test_size = 0.2, random_state=13)\n",
    "logreg = LogisticRegression(solver='lbfgs')\n",
    "\n",
    "# Predict and score the model\n",
    "predicted = cross_val_predict(logreg, X_train, y_train, cv=10)\n",
    "\n",
    "clf = logreg.fit(X_train, y_train)\n",
    "y_pred = logreg.predict(X_test)\n",
    "\n",
    "# Display the test and training scores\n",
    "print('The training score is: ', accuracy_score(y_train, predicted))\n",
    "print('The test score is: ', accuracy_score(y_test, y_pred))\n",
    "\n",
    "# Create a dataframe to display the coeficient values\n",
    "\n",
    "coefficients = list(clf.coef_[0])\n",
    "coefficients[0]\n",
    "\n",
    "coefficientData = {\n",
    "    'Suitability for Children': [coefficients[0]],\n",
    "    'Grooming Required': [coefficients[1]],\n",
    "    'Longevity': [coefficients[2]],\n",
    "    'Hound': [coefficients[3]],\n",
    "    'Sporting': [coefficients[4]],\n",
    "    'Terrier': [coefficients[5]],\n",
    "    'Toy': [coefficients[6]],\n",
    "    'Working': [coefficients[7]]\n",
    "}\n",
    "\n",
    "coefficientDataFrame = pd.DataFrame(data = coefficientData)\n",
    "\n",
    "# Display the results\n",
    "coefficientDataFrame"
   ]
  },
  {
   "cell_type": "markdown",
   "metadata": {},
   "source": [
    "The training score of 0.88 and a test score of 0.9 indicate that the logistic regression model is able to capture whether or not a dog is the brightest based on the predictor parameters about 90% of the time. It should be noted that there were 100 data points used for this model which could potentially result in overfitting due to a small sample size. I would recommend future analysis given multiple data sources in subsequent studies.\n",
    "\n",
    "The coefficients indicate that the most intelligent breeds are more likely to be good with children but also will require substantial grooming. The model also indicates a relationship between breed category and intelligence. Here, we see that the sporting and working categories tend to have a stronger correlation with intelligence when compared to hound, terrier, and toy breeds that have a negative coefficient."
   ]
  }
 ],
 "metadata": {
  "kernelspec": {
   "display_name": "Python 3.7.6 ('base')",
   "language": "python",
   "name": "python3"
  },
  "language_info": {
   "codemirror_mode": {
    "name": "ipython",
    "version": 3
   },
   "file_extension": ".py",
   "mimetype": "text/x-python",
   "name": "python",
   "nbconvert_exporter": "python",
   "pygments_lexer": "ipython3",
   "version": "3.7.6"
  },
  "orig_nbformat": 4,
  "vscode": {
   "interpreter": {
    "hash": "7a8d967e49379e4bd1134e6a556b0409abe7c4e107bc612bc7d078ba4629a88f"
   }
  }
 },
 "nbformat": 4,
 "nbformat_minor": 2
}

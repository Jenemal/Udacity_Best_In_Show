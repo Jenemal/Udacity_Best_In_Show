{
 "cells": [
  {
   "cell_type": "code",
   "execution_count": 141,
   "metadata": {},
   "outputs": [],
   "source": [
    "import pandas as pd\n",
    "import numpy as np\n",
    "import matplotlib.pyplot as plt\n",
    "from scipy.stats import ttest_ind\n",
    "from sklearn.linear_model import LogisticRegression\n",
    "from sklearn.model_selection import train_test_split\n",
    "from sklearn import metrics\n",
    "from sklearn import preprocessing\n",
    "from sklearn.model_selection import cross_val_predict\n",
    "from sklearn.metrics import accuracy_score\n",
    "\n",
    "filepath = 'C:/Repositories/Udacity_Best_In_Show/best_in_show.csv'\n",
    "df = pd.read_csv(filepath)"
   ]
  },
  {
   "cell_type": "code",
   "execution_count": 128,
   "metadata": {},
   "outputs": [],
   "source": [
    "def ConvertDfObjectsToNumeric(df, column_names_array):\n",
    "    '''\n",
    "    INPUT\n",
    "    df - the pandas dataframe to be changed\n",
    "    column_names_array - the column headings that are to be converted from object to float\n",
    "    \n",
    "    OUTPUT\n",
    "    None\n",
    "    '''\n",
    "    # Convert remaning object types to floats\n",
    "    for name in column_names_array:\n",
    "        \n",
    "        df[name] = pd.to_numeric(df[name], errors= 'coerce')\n"
   ]
  },
  {
   "cell_type": "code",
   "execution_count": 129,
   "metadata": {},
   "outputs": [],
   "source": [
    "def CleanData(df):\n",
    "    '''\n",
    "    INPUT\n",
    "    df - the pandas dataframe to be cleaned\n",
    "    \n",
    "    OUTPUT\n",
    "    X - All of the variables you want to consider when predicting the response (matrix)\n",
    "    y - The response variable (matrix)\n",
    "    '''\n",
    "    # Replace the 'no data' labels with NaNs\n",
    "    df = df.replace('no data', np.nan)\n",
    "\n",
    "    # Drop columns with all NaN values\n",
    "    df = df.dropna(how='all', axis=1)\n",
    "\n",
    "    # Remove missing intelligence and popularity nan rows\n",
    "    df = df.dropna(subset = ['1 INTELLIGENCE (TRAINABILITY) ranking', 'POPULARITY IN US', 'intelligence category'])\n",
    "\n",
    "    # Select the columns of interest\n",
    "    new_df = df[['1 INTELLIGENCE (TRAINABILITY) ranking', 'POPULARITY IN US', 'LIFETIME COST, $', \n",
    "    '5b suitability for children ', '2 LONGEVITY', '5a grooming required ', '4a average purchase price, US$', \n",
    "    'category', 'intelligence category']]\n",
    "\n",
    "    # For quantitative variables, replace NaN values with the mean of that column\n",
    "    quantitativeVariables = new_df.select_dtypes(include=['float', 'int']).columns\n",
    "    for column in quantitativeVariables:\n",
    "        new_df[column].fillna((new_df[column].mean()), inplace=True)\n",
    "    \n",
    "    return new_df"
   ]
  },
  {
   "cell_type": "code",
   "execution_count": null,
   "metadata": {},
   "outputs": [],
   "source": [
    "def CreateDummyDf(df, categorical_columns, dummy_na):\n",
    "    '''\n",
    "    INPUT:\n",
    "    df - pandas dataframe with categorical variables you want to get dummy variablesf for\n",
    "    categorical_columns - the names of the categorical columns (list of strings)\n",
    "    dummy_na - Bool holding whether you want to dummy NA vals of categorical columns or not\n",
    "    \n",
    "    OUTPUT:\n",
    "    df - a new dataframe with only the dummy variable columns\n",
    "    '''\n",
    "    for column in  categorical_columns:\n",
    "        try:\n",
    "            # for each cat add dummy var, drop original column\n",
    "            df = pd.concat([df.drop(column, axis=1), pd.get_dummies(df[column], prefix=column, prefix_sep='_', drop_first=True, dummy_na=dummy_na)], axis=1)\n",
    "        except:\n",
    "            continue\n",
    "    return df"
   ]
  },
  {
   "cell_type": "code",
   "execution_count": 130,
   "metadata": {},
   "outputs": [],
   "source": [
    "# Remove '$' from columns and convert '-' to nan\n",
    "df[df.columns[1:]] = df[df.columns[1:]].replace('[\\$,]', '', regex=True)\n",
    "df[df.columns[1:]] = df[df.columns[1:]].replace('-', np.nan, regex=True)"
   ]
  },
  {
   "cell_type": "code",
   "execution_count": 131,
   "metadata": {},
   "outputs": [],
   "source": [
    "# Convert the object type data to floats\n",
    "columnNames = ['1 INTELLIGENCE (TRAINABILITY) ranking', 'POPULARITY IN US', 'LIFETIME COST, $', '2 LONGEVITY', '4a average purchase price, US$']\n",
    "ConvertDfObjectsToNumeric(df, columnNames)"
   ]
  },
  {
   "cell_type": "code",
   "execution_count": 132,
   "metadata": {},
   "outputs": [
    {
     "name": "stdout",
     "output_type": "stream",
     "text": [
      "Percentage of missing values:\n",
      "1 INTELLIGENCE (TRAINABILITY) ranking    0.000000\n",
      "POPULARITY IN US                         0.000000\n",
      "LIFETIME COST, $                         0.000000\n",
      "5b suitability for children              0.242424\n",
      "2 LONGEVITY                              0.000000\n",
      "5a grooming required                     0.242424\n",
      "4a average purchase price, US$           0.000000\n",
      "category                                 0.106061\n",
      "intelligence category                    0.000000\n",
      "dtype: float64\n"
     ]
    },
    {
     "name": "stderr",
     "output_type": "stream",
     "text": [
      "c:\\Users\\MALIK\\Anaconda3\\lib\\site-packages\\pandas\\core\\generic.py:6245: SettingWithCopyWarning: \n",
      "A value is trying to be set on a copy of a slice from a DataFrame\n",
      "\n",
      "See the caveats in the documentation: https://pandas.pydata.org/pandas-docs/stable/user_guide/indexing.html#returning-a-view-versus-a-copy\n",
      "  self._update_inplace(new_data)\n"
     ]
    }
   ],
   "source": [
    "# Create cleaned dataset for quantitative variables\n",
    "cleaned_df = CleanData(df)\n",
    "\n",
    "# Check to make sure only categorical data have nan values\n",
    "print(\"Percentage of missing values:\")\n",
    "print(cleaned_df.isna().sum()/len(cleaned_df))\n"
   ]
  },
  {
   "cell_type": "code",
   "execution_count": 133,
   "metadata": {},
   "outputs": [
    {
     "data": {
      "image/png": "[encoded data removed]",
      "text/plain": [
       "<Figure size 432x288 with 1 Axes>"
      ]
     },
     "metadata": {
      "needs_background": "light"
     },
     "output_type": "display_data"
    },
    {
     "name": "stdout",
     "output_type": "stream",
     "text": [
      "Brightest\n",
      "Ttest_indResult(statistic=-2.971657907983322, pvalue=0.005901425317252588)\n",
      "Ttest_indResult(statistic=-4.1194539662860565, pvalue=0.00015266029401949307)\n",
      "Ttest_indResult(statistic=-3.735003666434757, pvalue=0.0007866046264631722)\n",
      "Ttest_indResult(statistic=-2.3338426218629618, pvalue=0.030739117249612827)\n",
      "Excellent\n",
      "Ttest_indResult(statistic=-2.2971765064958993, pvalue=0.02523685092872833)\n",
      "Ttest_indResult(statistic=-1.3498781447310584, pvalue=0.1844610128861497)\n",
      "Ttest_indResult(statistic=0.7175142671930435, pvalue=0.4786070454017354)\n"
     ]
    }
   ],
   "source": [
    "# Question Number 1: Are smart dogs popular in the US?\n",
    "# To answer this question I created a subsection of the dataframe for each different intelligence level. The average popularity score\n",
    "# for each intelligence level was then plotted so that each of the categories could easily be compared. A ttest was run comparing\n",
    "# each of the groups to check for statistically significant differences.\n",
    "\n",
    "# Create sub df for Brightest, Excellent, Average, Fair, and Lowest intelligence levels\n",
    "excellentPopularity = cleaned_df[cleaned_df['intelligence category'] == 'Excellent'][['POPULARITY IN US', 'LIFETIME COST, $']]\n",
    "brightestPopularity = cleaned_df[cleaned_df['intelligence category'] == 'Brightest'][['POPULARITY IN US', 'LIFETIME COST, $']]\n",
    "averagePopularity = cleaned_df[cleaned_df['intelligence category'] == 'Average'][['POPULARITY IN US', 'LIFETIME COST, $']]\n",
    "fairPopularity = cleaned_df[cleaned_df['intelligence category'] == 'Fair'][['POPULARITY IN US', 'LIFETIME COST, $']]\n",
    "lowestPopularity = cleaned_df[cleaned_df['intelligence category'] == 'Lowest'][['POPULARITY IN US', 'LIFETIME COST, $']]\n",
    "\n",
    "# Plot the average popularity (1 = most popular) against dog intelligence\n",
    "fig = plt.figure()\n",
    "ax = fig.add_axes([0,0,1,1])\n",
    "intelligence = ['Brightest', 'Excellent', 'Average', 'Fair', 'Lowest']\n",
    "popularity = [\n",
    "    brightestPopularity['POPULARITY IN US'].mean(),\n",
    "    excellentPopularity['POPULARITY IN US'].mean(),\n",
    "    averagePopularity['POPULARITY IN US'].mean(),\n",
    "    fairPopularity['POPULARITY IN US'].mean(),\n",
    "    lowestPopularity['POPULARITY IN US'].mean()]\n",
    "\n",
    "ax.bar(intelligence,popularity)\n",
    "ax.set_title('Dog Intelligence Versus US Popularity')\n",
    "ax.set_ylabel('US Popularity (1 = most popular)')\n",
    "ax.set_xlabel('Dog Intelligence')\n",
    "plt.show()\n",
    "\n",
    "# Check for statistical significance between the top two intelligent groups\n",
    "print('Brightest')\n",
    "print(ttest_ind(brightestPopularity['POPULARITY IN US'], excellentPopularity['POPULARITY IN US']))\n",
    "print(ttest_ind(brightestPopularity['POPULARITY IN US'], averagePopularity['POPULARITY IN US']))\n",
    "print(ttest_ind(brightestPopularity['POPULARITY IN US'], fairPopularity['POPULARITY IN US']))\n",
    "print(ttest_ind(brightestPopularity['POPULARITY IN US'], lowestPopularity['POPULARITY IN US']))\n",
    "print('Excellent')\n",
    "print(ttest_ind(excellentPopularity['POPULARITY IN US'], averagePopularity['POPULARITY IN US']))\n",
    "print(ttest_ind(excellentPopularity['POPULARITY IN US'], fairPopularity['POPULARITY IN US']))\n",
    "print(ttest_ind(excellentPopularity['POPULARITY IN US'], lowestPopularity['POPULARITY IN US']))"
   ]
  },
  {
   "cell_type": "code",
   "execution_count": 134,
   "metadata": {},
   "outputs": [
    {
     "name": "stdout",
     "output_type": "stream",
     "text": [
      "True\n"
     ]
    },
    {
     "data": {
      "text/plain": [
       "Text(0.5, 1.0, 'Dog Popularity as a Function of Cost')"
      ]
     },
     "execution_count": 134,
     "metadata": {},
     "output_type": "execute_result"
    },
    {
     "data": {
      "image/png": "[encoded data removed]",
      "text/plain": [
       "<Figure size 432x288 with 1 Axes>"
      ]
     },
     "metadata": {
      "needs_background": "light"
     },
     "output_type": "display_data"
    }
   ],
   "source": [
    "# Question Number 2: Are more intelligent dogs more cost effective? This question starts to dive into why the Brightest dogs\n",
    "# are so popular with there being no difference between the lowest intelligent and next smartest dogs. Here, a scatter plot will \n",
    "# used to visualize trends between dog intelligence levels, lifetime cost, and popularity in the US.\n",
    "\n",
    "ax1 = brightestPopularity.plot(kind='scatter', y='POPULARITY IN US', x='LIFETIME COST, $', color='r')\n",
    "ax2 = excellentPopularity.plot(kind='scatter', y='POPULARITY IN US', x='LIFETIME COST, $', color='g', ax=ax1)    \n",
    "ax3 = averagePopularity.plot(kind='scatter', y='POPULARITY IN US', x='LIFETIME COST, $', color='b', ax=ax1)\n",
    "ax4 = fairPopularity.plot(kind='scatter', y='POPULARITY IN US', x='LIFETIME COST, $', color='k', ax=ax1)    \n",
    "ax5 = lowestPopularity.plot(kind='scatter', y='POPULARITY IN US', x='LIFETIME COST, $', color='y', ax=ax1)\n",
    "\n",
    "print(ax1 == ax2 == ax3 == ax4 == ax5)  # True\n",
    "plt.legend(['Brightest','Excellent','Average', 'Fair', 'Lowest'])\n",
    "plt.title('Dog Popularity as a Function of Cost')"
   ]
  },
  {
   "cell_type": "code",
   "execution_count": 135,
   "metadata": {},
   "outputs": [],
   "source": [
    "# Question Number 3: What key features and parameters do most of the Brightest dogs have? Here, I created a \n",
    "# linear regression model.... Using the correlation coefficients we are able to assess what the key contributing\n",
    "# parameters are.\n",
    "#  correlation coefficient plot?\n",
    "\n",
    "\n"
   ]
  },
  {
   "cell_type": "code",
   "execution_count": 200,
   "metadata": {},
   "outputs": [],
   "source": [
    "# Convert response variable to binary values. We only care about the Brightest intelligence level and so it has been assigned 1 and the other categories a 0.\n",
    "cleaned_df['intelligence category'] = cleaned_df['intelligence category'].replace(['Excellent','Above average','Average','Fair', 'Lowest'],0,regex=True)\n",
    "cleaned_df['intelligence category'] = cleaned_df['intelligence category'].replace(['Brightest'],1,regex=True)\n",
    "\n",
    "# Clean the data for the categorical NaNs (drop missing values for children suitability)\n",
    "cleaned_df = cleaned_df.dropna(subset = ['5b suitability for children '])\n",
    "\n",
    "# Create dummy values for 'category'\n",
    "columnList = ['category']\n",
    "cleaned_df = CreateDummyDf(cleaned_df, columnList, True)\n",
    "\n",
    "# Specify predictor variable column names\n",
    "columnPredictorList =  ['5b suitability for children ','5a grooming required '\n",
    ", '2 LONGEVITY','category_hound', 'category_sporting', 'category_terrier',\n",
    "'category_toy', 'category_working']"
   ]
  },
  {
   "cell_type": "code",
   "execution_count": 212,
   "metadata": {},
   "outputs": [
    {
     "name": "stdout",
     "output_type": "stream",
     "text": [
      "0.8875\n",
      "0.9\n",
      "[[ 0.87892993  0.6408042   0.14948652 -0.70875447  0.28048162 -0.67046567\n",
      "  -0.35980131  0.40852296]] [-6.4578477]\n",
      "['5b suitability for children ', '5a grooming required ', '2 LONGEVITY', 'category_hound', 'category_sporting', 'category_terrier', 'category_toy', 'category_working']\n"
     ]
    },
    {
     "name": "stderr",
     "output_type": "stream",
     "text": [
      "c:\\Users\\MALIK\\Anaconda3\\lib\\site-packages\\sklearn\\model_selection\\_split.py:667: UserWarning: The least populated class in y has only 8 members, which is less than n_splits=10.\n",
      "  % (min_groups, self.n_splits)), UserWarning)\n"
     ]
    }
   ],
   "source": [
    "# Begin setting up the logistic regression\n",
    "\n",
    "# Set x and y\n",
    "x = cleaned_df[columnPredictorList]\n",
    "y = cleaned_df['intelligence category']\n",
    "\n",
    "# Split into train and test set\n",
    "X_train, X_test, y_train, y_test = train_test_split(x, y, \n",
    "test_size = 0.2, random_state=13)\n",
    "logreg = LogisticRegression(solver='lbfgs')\n",
    "\n",
    "# Predict and score the model\n",
    "predicted = cross_val_predict(logreg, X_train, y_train, cv=10)\n",
    "print(accuracy_score(y_train, predicted))\n",
    "\n",
    "clf = logreg.fit(X_train, y_train)\n",
    "y_pred = logreg.predict(X_test)\n",
    "print(accuracy_score(y_test, y_pred))\n",
    "\n",
    "print(clf.coef_, clf.intercept_)\n",
    "print(columnPredictorList)\n"
   ]
  }
 ],
 "metadata": {
  "kernelspec": {
   "display_name": "Python 3.7.6 ('base')",
   "language": "python",
   "name": "python3"
  },
  "language_info": {
   "codemirror_mode": {
    "name": "ipython",
    "version": 3
   },
   "file_extension": ".py",
   "mimetype": "text/x-python",
   "name": "python",
   "nbconvert_exporter": "python",
   "pygments_lexer": "ipython3",
   "version": "3.7.6"
  },
  "orig_nbformat": 4,
  "vscode": {
   "interpreter": {
    "hash": "7a8d967e49379e4bd1134e6a556b0409abe7c4e107bc612bc7d078ba4629a88f"
   }
  }
 },
 "nbformat": 4,
 "nbformat_minor": 2
}
